{
  "cells": [
    {
      "cell_type": "code",
      "execution_count": null,
      "metadata": {
        "id": "XDtlbA_dr4Hn"
      },
      "outputs": [],
      "source": [
        "import pandas as pd\n",
        "import numpy as np\n",
        "import nltk\n",
        "import string\n",
        "from nltk.corpus import stopwords\n",
        "import matplotlib.pyplot as plt\n",
        "from sklearn.model_selection import train_test_split\n",
        "\n",
        "import tensorflow as tf\n",
        "print(tf.__version__)"
      ]
    },
    {
      "cell_type": "markdown",
      "metadata": {
        "id": "IVPWTsTfr4Hq"
      },
      "source": [
        "## 1. Загрузка данных"
      ]
    },
    {
      "cell_type": "code",
      "execution_count": null,
      "metadata": {
        "id": "LLxELfvo9j8i"
      },
      "outputs": [],
      "source": [
        "import pandas as pd\n",
        "import numpy as np"
      ]
    },
    {
      "cell_type": "code",
      "execution_count": null,
      "metadata": {
        "id": "hxMyghIrr4Hs"
      },
      "outputs": [],
      "source": [
        "#загружаем данные для обучения\n",
        "train_df = pd.read_csv(\"/content/train.csv\", sep = ';',on_bad_lines='skip',encoding=\"cp1251\")\n",
        "train_df"
      ]
    },
    {
      "cell_type": "code",
      "execution_count": null,
      "metadata": {
        "id": "lVRik3-4r4Ht"
      },
      "outputs": [],
      "source": [
        "# Посмотрим распределение по жанрам\n",
        "\n",
        "age_count_df = train_df[['Название книги','Возраст']].groupby('Возраст').agg('count').sort_values('Название книги', ascending = False)\n",
        "\n",
        "age_count_df.reset_index(inplace = True)\n",
        "age_count_df.rename(columns ={'Название книги':'Age_Cnt'}, inplace = True)\n",
        "\n",
        "age_count_df.plot.bar(y = 'Age_Cnt', x = 'Возраст')\n",
        "\n",
        "age_count_df"
      ]
    },
    {
      "cell_type": "code",
      "execution_count": null,
      "metadata": {
        "id": "Q4-MHEacr4Hu"
      },
      "outputs": [],
      "source": [
        "train_df = train_df.merge(age_count_df, how = 'left', left_on='Возраст', right_on='Возраст')\n",
        "\n",
        "train_df"
      ]
    },
    {
      "cell_type": "code",
      "execution_count": null,
      "metadata": {
        "id": "UTEd2IR4r4Hv"
      },
      "outputs": [],
      "source": [
        "# Уберем редко встречающиеся варианты\n",
        "\n",
        "Age_Cnt_MIN = 50\n",
        "\n",
        "train_df = train_df [train_df['Age_Cnt'] > Age_Cnt_MIN]\n",
        "\n",
        "train_df"
      ]
    },
    {
      "cell_type": "code",
      "execution_count": null,
      "metadata": {
        "id": "lxF1Ko9Vr4Hw"
      },
      "outputs": [],
      "source": [
        "\n",
        "test_df = pd.read_csv('/content/test.csv', sep = ';',on_bad_lines='skip',encoding=\"cp1251\")\n",
        "\n",
        "test_df"
      ]
    },
    {
      "cell_type": "code",
      "execution_count": null,
      "metadata": {
        "id": "1-7DrWStr4Hw"
      },
      "outputs": [],
      "source": [
        "test_df = test_df.merge(age_count_df, how = 'left', left_on='Возраст', right_on='Возраст')\n",
        "\n",
        "test_df"
      ]
    },
    {
      "cell_type": "code",
      "execution_count": null,
      "metadata": {
        "id": "0LQMp2tYr4Hx"
      },
      "outputs": [],
      "source": [
        "Age_Cnt_MIN = 50\n",
        "\n",
        "test_df = test_df [test_df['Age_Cnt'] > Age_Cnt_MIN]\n",
        "\n",
        "test_df"
      ]
    },
    {
      "cell_type": "markdown",
      "metadata": {
        "id": "KqUXZogkr4Hx"
      },
      "source": [
        "## 2. Подготовка данных для модели\n"
      ]
    },
    {
      "cell_type": "code",
      "execution_count": null,
      "metadata": {
        "id": "a1QfoL_Nr4Hy"
      },
      "outputs": [],
      "source": [
        "def tokenize_text (p_raw_text, p_stop_words):\n",
        "    '''Функция для токенизации текста\n",
        "\n",
        "    :param p_raw_text: исходная текстовая строка\n",
        "    :param p_stop_words: список стоп слов\n",
        "    '''\n",
        "    \n",
        "    tokenized_str = nltk.word_tokenize(p_raw_text)\n",
        "    tokens = [i.lower() for i in tokenized_str if ( i not in string.punctuation )]\n",
        "    filtered_tokens = [i for i in tokens if ( i not in p_stop_words )]\n",
        "    \n",
        "    return filtered_tokens\n",
        "\n",
        "#tokenize_text"
      ]
    },
    {
      "cell_type": "code",
      "execution_count": null,
      "metadata": {
        "id": "dGG3V74KtBzR"
      },
      "outputs": [],
      "source": [
        "import nltk\n",
        "nltk.download('stopwords')"
      ]
    },
    {
      "cell_type": "code",
      "execution_count": null,
      "metadata": {
        "id": "9YaKZDZgr4Hy"
      },
      "outputs": [],
      "source": [
        "#разбиваем описание на токены\n",
        "import nltk\n",
        "import re\n",
        "nltk.download('punkt')\n",
        "from nltk.corpus import stopwords\n",
        "\n",
        "train_df['Synopsis_tokenized'] = train_df['Synopsis'].apply(lambda x:tokenize_text(x, stopwords.words('russian')))\n",
        "\n",
        "test_df['Synopsis_tokenized'] = test_df['Synopsis'].apply(lambda x:tokenize_text(x, stopwords.words('russian')))"
      ]
    },
    {
      "cell_type": "code",
      "execution_count": null,
      "metadata": {
        "id": "iEKMhZper4Hz"
      },
      "outputs": [],
      "source": [
        "# создаем словарь\n",
        "\n",
        "#словарь, составленный из описаний фильмов <word>:<id>\n",
        "vocabulary = {}\n",
        "\n",
        "max_val = 1000000\n",
        "\n",
        "#добавляем зарезервированные слова\n",
        "vocabulary[\"<PAD>\"] = max_val + 2\n",
        "vocabulary[\"<START>\"] = max_val + 1\n",
        "vocabulary[\"<UNKNOWN>\"] = max_val\n",
        "\n",
        "#посчитаем слова\n",
        "for tokens in train_df.Synopsis_tokenized:\n",
        "    for word in tokens:\n",
        "        if word not in vocabulary.keys():\n",
        "            vocabulary[word] = 1\n",
        "        else:\n",
        "            vocabulary[word] = vocabulary[word] + 1\n",
        "            \n",
        "#отсортируем слова по частоте\n",
        "vocabulary = {k: v for k, v in sorted(vocabulary.items(), key=lambda item: item[1], reverse = True)}\n",
        "\n",
        "#проиндексируем слова\n",
        "cnt = 0\n",
        "for k in vocabulary.keys():\n",
        "    vocabulary[k] = cnt\n",
        "    cnt = cnt + 1\n",
        "#for\n",
        "\n",
        "vocabulary.pop('книге')\n",
        "vocabulary.pop('хх')\n",
        "vocabulary.pop('“')\n",
        "vocabulary.pop('”')\n",
        "print('Количестов слов в словаре:',len(vocabulary))\n",
        "print()\n",
        "vocabulary"
      ]
    },
    {
      "cell_type": "code",
      "execution_count": null,
      "metadata": {
        "id": "4t1cse-1r4Hz"
      },
      "outputs": [],
      "source": [
        "#создаем облегченный словарь для обучения\n",
        "vocab_light = {}\n",
        "for k, v in vocabulary.items():\n",
        "    if v < 10000:\n",
        "        vocab_light[k] = v\n",
        "\n",
        "vocab_light"
      ]
    },
    {
      "cell_type": "code",
      "execution_count": null,
      "metadata": {
        "id": "j6wPQ4ZRr4H0"
      },
      "outputs": [],
      "source": [
        "#описываем функции кодирования/декодирования слов\n",
        "\n",
        "def encode_tokens (p_tokens, p_vocabulary):\n",
        "    '''Кодирования токенов (слов) в индексы словаря\n",
        "    \n",
        "    :param p_tokens: список токенов\n",
        "    :param p_vocabulary: словарь <word>:<id>, c обязательными значениями {<PAD>:0, <START>:1, <UNKNOWN>: 2}\n",
        "    '''\n",
        "    res = []\n",
        "     \n",
        "    res = [p_vocabulary.get(word, p_vocabulary['<UNKNOWN>']) for word in p_tokens]\n",
        "    \n",
        "    return [p_vocabulary['<START>']] + res\n",
        "\n",
        "#encode_tokens\n",
        "\n",
        "def dencode_tokens (p_encoded_tokens, p_vocabulary):\n",
        "    '''Декодирование токенов: индексы словаря -> в тоекны (слова)\n",
        "    \n",
        "    :p_encoded_tokens: список индексов словаря\n",
        "    :param p_vocabulary: словарь <word>:<id>, c обязательными значениями {<PAD>:0, <START>:1, <UNKNOWN>: 2}\n",
        "    '''\n",
        "    \n",
        "    res = []\n",
        "    \n",
        "    for index in p_encoded_tokens: \n",
        "        for word, v_index in p_vocabulary.items():\n",
        "            if index == v_index:\n",
        "                res.append(word)\n",
        "                break\n",
        "            #if\n",
        "    \n",
        "    return res\n",
        "    \n"
      ]
    },
    {
      "cell_type": "code",
      "execution_count": null,
      "metadata": {
        "id": "4xyrfMxkr4H0"
      },
      "outputs": [],
      "source": [
        "#кодируем описание фильмов\n",
        "\n",
        "train_df['Synopsis_encoded'] = train_df['Synopsis_tokenized'].apply(lambda x: encode_tokens (x, vocab_light))\n",
        "\n",
        "train_df"
      ]
    },
    {
      "cell_type": "code",
      "execution_count": null,
      "metadata": {
        "id": "g7-QdLOOr4H1"
      },
      "outputs": [],
      "source": [
        "test_df['Synopsis_encoded'] = test_df['Synopsis_tokenized'].apply(lambda x: encode_tokens (x, vocab_light))\n",
        "\n",
        "test_df"
      ]
    },
    {
      "cell_type": "code",
      "execution_count": null,
      "metadata": {
        "id": "tmgin2Mdr4H1"
      },
      "outputs": [],
      "source": [
        "#Готовим данные для обучения\n",
        "train_data = train_df.Synopsis_encoded.to_numpy()\n",
        "train_labels = pd.get_dummies(train_df['Возраст']).values\n",
        "\n",
        "test_data = test_df.Synopsis_encoded.to_numpy()\n",
        "test_labels = pd.get_dummies(test_df['Возраст']).values\n",
        "\n",
        "print(len(train_data))\n",
        "print(len(train_labels))\n",
        "print(len(test_data))\n",
        "print(len(test_labels))"
      ]
    },
    {
      "cell_type": "code",
      "execution_count": null,
      "metadata": {
        "id": "j9b0fppRr4H1"
      },
      "outputs": [],
      "source": [
        "# Посчитаем среднюю длинну описания, чтобы определить длинну последовательности\n",
        "train_df['Synopsis_len'] = train_df['Synopsis_encoded'].apply (len)\n",
        "\n",
        "print ('минимальная длина описания:', train_df.Synopsis_len.min())\n",
        "print ('средняя длина описания:', round(train_df.Synopsis_len.mean()))\n",
        "print ('максимальная длина описания:', train_df.Synopsis_len.max())\n",
        "\n",
        "plt.hist(train_df.Synopsis_len, density = True)"
      ]
    },
    {
      "cell_type": "code",
      "execution_count": null,
      "metadata": {
        "id": "MU6jAtkur4H1"
      },
      "outputs": [],
      "source": [
        "# Приведем все цепочки в датасете к одной длине с помощью паддинга\n",
        "\n",
        "MAX_SEQ_LEN = 50\n",
        "\n",
        "train_data = tf.keras.preprocessing.sequence.pad_sequences(\n",
        "    train_data,\n",
        "    value= vocabulary['<PAD>'],\n",
        "    padding= 'post',\n",
        "    maxlen= MAX_SEQ_LEN)\n",
        "\n",
        "test_data = tf.keras.preprocessing.sequence.pad_sequences(\n",
        "    test_data,\n",
        "    value= vocabulary['<PAD>'],\n",
        "    padding= 'post',\n",
        "    maxlen= MAX_SEQ_LEN)\n",
        "\n",
        "print('Тернировочные данные:')\n",
        "print(train_data.shape)\n",
        "print(train_data[0])\n",
        "print()\n",
        "print('Тестовые данные:')\n",
        "print(test_data.shape)\n",
        "print(test_data[0])"
      ]
    },
    {
      "cell_type": "code",
      "execution_count": null,
      "metadata": {
        "id": "1pq36OzRr4H2"
      },
      "outputs": [],
      "source": [
        "#Разбьем обучающий датасет на обучающий и валидационный\n",
        "\n",
        "partial_x_train, x_val, partial_y_train, y_val = train_test_split(train_data, train_labels, \n",
        "                                                                  test_size = 0.05, random_state = 42)\n",
        "\n",
        "print(partial_x_train.shape, partial_y_train.shape)\n",
        "print(x_val.shape, y_val.shape)"
      ]
    },
    {
      "cell_type": "markdown",
      "metadata": {
        "id": "2Xwmni7ur4H2"
      },
      "source": [
        "## 3. Создание и обучение модели"
      ]
    },
    {
      "cell_type": "code",
      "source": [
        "from  tensorflow.keras.utils import get_custom_objects\n",
        "from keras.layers import Activation"
      ],
      "metadata": {
        "id": "rG20pCxuWzuz"
      },
      "execution_count": null,
      "outputs": []
    },
    {
      "cell_type": "code",
      "execution_count": null,
      "metadata": {
        "id": "NUYHjMuer4H2"
      },
      "outputs": [],
      "source": [
        "# Создадим рекурентную модель для классификации\n",
        "\n",
        "VOCAB_SIZE = len(vocab_light)\n",
        "EMB_SIZE = 32\n",
        "CLASS_NUM = y_val.shape[1]\n",
        "\n",
        "print(VOCAB_SIZE)\n",
        "print(EMB_SIZE)\n",
        "\n",
        "model = tf.keras.Sequential([\n",
        "    tf.keras.layers.Embedding(VOCAB_SIZE, EMB_SIZE),\n",
        "    tf.keras.layers.Bidirectional(\n",
        "    tf.keras.layers.LSTM(EMB_SIZE, return_sequences=True, dropout=0.5, recurrent_dropout=0.5)),\n",
        "    tf.keras.layers.Bidirectional(\n",
        "    tf.keras.layers.LSTM(EMB_SIZE, return_sequences=False, dropout=0.5, recurrent_dropout=0.5)),\n",
        "    tf.keras.layers.Dense(CLASS_NUM, activation= 'sigmoid'),\n",
        "])\n"
      ]
    },
    {
      "cell_type": "code",
      "execution_count": null,
      "metadata": {
        "id": "S-w7OSVdr4H2"
      },
      "outputs": [],
      "source": [
        "#Обучение модели\n",
        "BATCH_SIZE = 8 #8 77.59% / \n",
        "NUM_EPOCHS = 5\n",
        "\n",
        "#Настраиваем объект для сохранения результатов работы модели\n",
        "cpt_path = '/content/14_text_classifier.hdf5'\n",
        "checkpoint = tf.keras.callbacks.ModelCheckpoint(cpt_path, monitor='acc', verbose=1, save_best_only= True, mode='max')\n",
        "\n",
        "model.compile(loss= 'binomial_crossentropy', optimizer='adam', metrics=['acc'])\n",
        "\n",
        "from tensorflow.keras.utils import to_categorical\n",
        "\n",
        "history= model.fit(partial_x_train, partial_y_train, validation_data= (x_val, y_val), \n",
        "                   epochs= NUM_EPOCHS, batch_size= BATCH_SIZE, verbose= 1,\n",
        "                   callbacks=[checkpoint])\n"
      ]
    },
    {
      "cell_type": "code",
      "execution_count": null,
      "metadata": {
        "id": "CpGmpiWxr4H3"
      },
      "outputs": [],
      "source": [
        "# оценим качество на тестовом датасете\n",
        "\n",
        "results = model.evaluate(test_data, test_labels)\n",
        "\n",
        "print('Test loss: {:.4f}'.format(results[0]))\n",
        "print('Test accuracy: {:.2f} %'.format(results[1]*100))"
      ]
    }
  ],
  "metadata": {
    "colab": {
      "provenance": []
    },
    "kernelspec": {
      "display_name": "Python 3",
      "language": "python",
      "name": "python3"
    },
    "language_info": {
      "codemirror_mode": {
        "name": "ipython",
        "version": 3
      },
      "file_extension": ".py",
      "mimetype": "text/x-python",
      "name": "python",
      "nbconvert_exporter": "python",
      "pygments_lexer": "ipython3",
      "version": "3.7.6"
    }
  },
  "nbformat": 4,
  "nbformat_minor": 0
}