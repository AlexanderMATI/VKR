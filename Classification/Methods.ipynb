{
  "cells": [
    {
      "cell_type": "code",
      "execution_count": null,
      "metadata": {
        "id": "1YlQL5Z7Kp7L"
      },
      "outputs": [],
      "source": [
        "import numpy as np \n",
        "import pandas as pd \n",
        "import seaborn as sns\n",
        "import matplotlib.pyplot as plt\n",
        "import nltk\n",
        "%matplotlib inline "
      ]
    },
    {
      "cell_type": "code",
      "execution_count": null,
      "metadata": {
        "id": "q504H1uVKp7P"
      },
      "outputs": [],
      "source": [
        "from bs4 import BeautifulSoup\n",
        "import re\n",
        "from nltk.corpus import stopwords\n",
        "\n",
        "from sklearn import svm\n",
        "from sklearn.model_selection import train_test_split\n",
        "from sklearn.feature_extraction.text import CountVectorizer\n",
        "from sklearn.metrics import accuracy_score, confusion_matrix, recall_score, precision_score, f1_score\n"
      ]
    },
    {
      "cell_type": "code",
      "execution_count": null,
      "metadata": {
        "id": "mveFlqIDKp7Q",
        "scrolled": true
      },
      "outputs": [],
      "source": [
        "df = pd.read_csv(\"/content/train2.csv\", encoding='cp1251', on_bad_lines='skip', sep = ';')\n",
        "df.tail()"
      ]
    },
    {
      "cell_type": "code",
      "execution_count": null,
      "metadata": {
        "id": "MFgOYUggKp7R"
      },
      "outputs": [],
      "source": [
        "df.info()"
      ]
    },
    {
      "cell_type": "code",
      "execution_count": null,
      "metadata": {
        "id": "WDqnzGs3Kp7S"
      },
      "outputs": [],
      "source": [
        "df['Возраст']=df['Возраст'].replace('unknown',np.nan)\n",
        "df=df.dropna(axis=0, subset=['Возраст'])\n",
        "print(df.tail())"
      ]
    },
    {
      "cell_type": "code",
      "execution_count": null,
      "metadata": {
        "id": "LrmGbcwqKp7S"
      },
      "outputs": [],
      "source": [
        "print(len(df))\n",
        "print(df.shape)\n",
        "a=df['Возраст'].value_counts()[:18]\n",
        "b=a.keys().tolist()\n",
        "print(b)\n",
        "df=df[df.Возраст.isin(b)]\n",
        "df=df.reset_index(drop=True)"
      ]
    },
    {
      "cell_type": "code",
      "source": [
        "genre_count_df = df[['Название книги','Возраст']].groupby('Возраст').agg('count').sort_values('Название книги', ascending = False)\n",
        "\n",
        "genre_count_df.reset_index(inplace = True)\n",
        "genre_count_df.rename(columns ={'Название книги':'Возраст_cnt'}, inplace = True)\n",
        "\n",
        "genre_count_df.plot.bar(y = 'Возраст_cnt', x = 'Возраст')\n",
        "\n",
        "genre_count_df"
      ],
      "metadata": {
        "id": "cc_k1h8m8leo"
      },
      "execution_count": null,
      "outputs": []
    },
    {
      "cell_type": "code",
      "source": [
        "df = df.merge(genre_count_df, how = 'left', left_on='Возраст', right_on='Возраст')\n",
        "\n",
        "df"
      ],
      "metadata": {
        "id": "3Scn2rjZ9Wb7"
      },
      "execution_count": null,
      "outputs": []
    },
    {
      "cell_type": "code",
      "source": [
        "CNT_MIN = 50\n",
        "\n",
        "df = df [df['Возраст_cnt'] > CNT_MIN]\n",
        "\n",
        "df"
      ],
      "metadata": {
        "id": "cl0O4xpE9zyC"
      },
      "execution_count": null,
      "outputs": []
    },
    {
      "cell_type": "code",
      "execution_count": null,
      "metadata": {
        "id": "hPFgBuv3LT4P"
      },
      "outputs": [],
      "source": [
        "import nltk\n",
        "nltk.download('stopwords')"
      ]
    },
    {
      "cell_type": "code",
      "execution_count": null,
      "metadata": {
        "id": "WKJcxNWmKp7T"
      },
      "outputs": [],
      "source": [
        "def plotToWords(raw_plot):\n",
        "    letters_only = re.sub(\"[^а-яА-Я]\", \" \", str(raw_plot))\n",
        "    lower_case = letters_only.lower()\n",
        "    words = lower_case.split()\n",
        "    stops = set(stopwords.words(\"russian\"))\n",
        "    meaningful_words = [w for w in words if not w in stops]\n",
        "    return (\" \".join(meaningful_words))\n",
        "\n",
        "def preprocess(dataframe):\n",
        "    clean_train_reviews = []\n",
        "    for i in range(0,len(dataframe)):\n",
        "        clean_train_reviews.append(plotToWords(dataframe.iloc[i]['Аннотация']))\n",
        "    dataframe['Аннотация']=clean_train_reviews\n",
        "    return dataframe\n",
        "\n",
        "df=preprocess(df)\n",
        "print(df[\"Аннотация\"][:10])"
      ]
    },
    {
      "cell_type": "code",
      "execution_count": null,
      "metadata": {
        "id": "ffY8Iwe3Kp7U"
      },
      "outputs": [],
      "source": [
        "from sklearn.feature_extraction.text import TfidfVectorizer\n",
        "tfidf = TfidfVectorizer(sublinear_tf=True, min_df=1, norm='l2', encoding='latin-1', ngram_range=(1, 2), max_features=4000)\n",
        "features = tfidf.fit_transform(df.Аннотация).toarray()\n",
        "labels = df.Возраст\n",
        "features.shape"
      ]
    },
    {
      "cell_type": "code",
      "execution_count": null,
      "metadata": {
        "id": "TLdUUS6MKp7V"
      },
      "outputs": [],
      "source": [
        "from sklearn.model_selection import train_test_split\n",
        "from sklearn.feature_extraction.text import CountVectorizer\n",
        "from sklearn.feature_extraction.text import TfidfTransformer\n",
        "from sklearn.naive_bayes import MultinomialNB\n",
        "X_train, X_test, y_train, y_test = train_test_split(df['Аннотация'], df['Возраст'], random_state = 0)\n",
        "count_vect = CountVectorizer()\n",
        "X_train_counts = count_vect.fit_transform(X_train)\n",
        "tfidf_transformer = TfidfTransformer()\n",
        "X_train_tfidf = tfidf_transformer.fit_transform(X_train_counts)\n",
        "clf = MultinomialNB().fit(X_train_tfidf, y_train)\n"
      ]
    },
    {
      "cell_type": "code",
      "execution_count": null,
      "metadata": {
        "id": "ZutbzRvsKp7W"
      },
      "outputs": [],
      "source": [
        "print(clf.predict(count_vect.transform([\"Новая история происходит в вымышленном городе Южная Верона, где Монтекки и Капулетти становятся Кампелос и Монтейрос - двумя враждующими семьями, известными всему городу. Однако на этом сходство с оригинальной историей заканчивается. Ромео и Джульетта становятся Ромуло и Рамоном и впитывают черты характера обоих классических персонажей, давая новую жизнь известному сюжету.\"])))"
      ]
    },
    {
      "cell_type": "code",
      "execution_count": null,
      "metadata": {
        "id": "JuAq1eL7Kp7Z"
      },
      "outputs": [],
      "source": [
        "from sklearn.linear_model import LogisticRegression\n",
        "from sklearn.ensemble import RandomForestClassifier\n",
        "from sklearn.svm import LinearSVC\n",
        "from sklearn.model_selection import cross_val_score\n",
        "models = [\n",
        "    LinearSVC(max_iter=150000),\n",
        "    MultinomialNB(),\n",
        "    LogisticRegression(random_state=0,max_iter=150000),\n",
        "]\n",
        "CV = 5\n",
        "cv_df = pd.DataFrame(index=range(CV * len(models)))\n",
        "entries = []\n",
        "for model in models:\n",
        "    model_name = model.__class__.__name__\n",
        "    accuracies = cross_val_score(model, features, labels, scoring='accuracy', cv=CV)\n",
        "    for fold_idx, accuracy in enumerate(accuracies):\n",
        "        entries.append((model_name, fold_idx, accuracy))\n",
        "cv_df = pd.DataFrame(entries, columns=['model_name', 'fold_idx', 'accuracy'])"
      ]
    },
    {
      "cell_type": "code",
      "execution_count": null,
      "metadata": {
        "id": "fCeHUIxMKp7Z"
      },
      "outputs": [],
      "source": [
        "cv_df.groupby('model_name').accuracy.mean()"
      ]
    }
  ],
  "metadata": {
    "colab": {
      "provenance": []
    },
    "kernelspec": {
      "display_name": "Python 3",
      "language": "python",
      "name": "python3"
    },
    "language_info": {
      "codemirror_mode": {
        "name": "ipython",
        "version": 3
      },
      "file_extension": ".py",
      "mimetype": "text/x-python",
      "name": "python",
      "nbconvert_exporter": "python",
      "pygments_lexer": "ipython3",
      "version": "3.6.5"
    }
  },
  "nbformat": 4,
  "nbformat_minor": 0
}